{
 "cells": [
  {
   "cell_type": "code",
   "execution_count": 8,
   "metadata": {},
   "outputs": [],
   "source": [
    "n_vocab = 1024\n",
    "model_file = f'models/bpe{n_vocab}wu.pack'"
   ]
  },
  {
   "cell_type": "code",
   "execution_count": 12,
   "metadata": {},
   "outputs": [],
   "source": [
    "from os.path import expanduser\n",
    "from tqdm import tqdm\n",
    "\n",
    "def data_iter(chunk=1e5):\n",
    "    fname = expanduser('~/dev/data/text/wiki/zim/wikipedia_en_all_nopic_2024-04.zim')\n",
    "    data = b''\n",
    "    for page in zimloader.read_zims([fname], nthreads=16):\n",
    "        data += bytes(page, 'utf8')\n",
    "        if len(data) > chunk:\n",
    "            yield data\n",
    "            data = b''\n",
    "\n",
    "\n",
    "# def data_iter(chunk=1e6):\n",
    "#     fname = expanduser('~/dev/data/text/wiki/zim/wikipedia_en_all_nopic_2024-04.shuf.txt')\n",
    "#     data = b''\n",
    "#     while True:\n",
    "#         with open(fname, 'rb') as f:\n",
    "#             for line in f:\n",
    "#                 line = line.trim()\n",
    "#                 if len(line) < 100:\n",
    "#                     continue\n",
    "#                 data += bytes(line, 'utf8')\n",
    "#                 if len(data) > chunk:\n",
    "#                     yield data\n",
    "#                     data = b''\n",
    "\n",
    "# def data_iter(chunk=1e6):\n",
    "#     fname = expanduser('~/dev/data/text/wiki/zim/wikipedia_en_all_nopic_2024-04.shuf.txt')\n",
    "#     # data = b''\n",
    "#     while True:\n",
    "#         with open(fname, 'rb') as f:\n",
    "#             while (b := f.read(int(chunk))):\n",
    "#                 yield b\n",
    "\n",
    "# fname = expanduser('~/dev/data/text/wiki/zim/wikipedia_en_all_nopic_2024-04.shuf.txt')\n",
    "# data = b''\n",
    "# with open(fname, 'r') as f:\n",
    "#     for line in (prog := tqdm(f)):\n",
    "#         line = line.strip()\n",
    "#         if len(line) < 100:\n",
    "#             continue\n",
    "#         data += bytes(line, 'utf8')\n",
    "#         prog.set_description(f'{len(data)}')\n",
    "#         if len(data) > 1e7:\n",
    "#             break\n",
    "\n",
    "data = next(data_iter(1e7))"
   ]
  },
  {
   "cell_type": "code",
   "execution_count": 13,
   "metadata": {},
   "outputs": [
    {
     "name": "stderr",
     "output_type": "stream",
     "text": [
      "1024it [00:45, 22.73it/s] \n"
     ]
    }
   ],
   "source": [
    "from sqrll import zimloader\n",
    "from tqdm import tqdm\n",
    "import btok\n",
    "\n",
    "btr = btok.Trainer(n_vocab, whitespace_unigram=True)\n",
    "\n",
    "def traingen():\n",
    "    for i in range(btr.num_tokens()):\n",
    "        yield i\n",
    "    while btr.update(data, tokens_to_add=1):\n",
    "        yield btr.num_tokens()\n",
    "\n",
    "for _ in (prog := tqdm(traingen())):\n",
    "    prog.refresh()\n",
    "\n",
    "# for chunk in (prog := tqdm(data_iter(1e7), unit='tok', total=n_vocab)):\n",
    "#     btr.update(chunk, tokens_to_add=1)\n",
    "#     n = btr.num_tokens()\n",
    "#     prog.update(n - prog.n)\n",
    "#     prog.refresh()\n",
    "#     if n == n_vocab:\n",
    "#         prog.close()\n",
    "#         break\n",
    "\n",
    "# for chunk in data_iter():\n",
    "#     print(len(chunk))\n",
    "#     btr.update(chunk, tokens_to_add=1)\n",
    "#     print(btr.num_tokens())\n",
    "#     if btr.num_tokens() == n_vocab:\n",
    "#         break\n",
    "\n",
    "with open(model_file, 'wb') as f:\n",
    "    f.write(btr.tokenizer.pack())"
   ]
  },
  {
   "cell_type": "code",
   "execution_count": null,
   "metadata": {},
   "outputs": [],
   "source": [
    "# model_file = f'models/bpe{n_vocab}w2.pack'\n",
    "\n",
    "with open(model_file, 'rb') as f:\n",
    "    btz = btok.Tokenizer(f.read())\n",
    "\n",
    "for i in range(btz.num_tokens()):\n",
    "    print(btz.token(i))"
   ]
  },
  {
   "cell_type": "code",
   "execution_count": 15,
   "metadata": {},
   "outputs": [
    {
     "data": {
      "text/plain": [
       "5479833"
      ]
     },
     "execution_count": 15,
     "metadata": {},
     "output_type": "execute_result"
    }
   ],
   "source": [
    "# data = next(data_iter(1e7))\n",
    "toks = btz.encode(data)\n",
    "len(toks)"
   ]
  },
  {
   "cell_type": "code",
   "execution_count": 16,
   "metadata": {},
   "outputs": [
    {
     "data": {
      "text/plain": [
       "0.6848744761800397"
      ]
     },
     "execution_count": 16,
     "metadata": {},
     "output_type": "execute_result"
    }
   ],
   "source": [
    "import numpy as np\n",
    "\n",
    "orig_bits = len(data) * 8\n",
    "new_bits = len(toks) * np.log2(btz.num_tokens())\n",
    "\n",
    "new_bits / orig_bits"
   ]
  },
  {
   "cell_type": "code",
   "execution_count": 7,
   "metadata": {},
   "outputs": [
    {
     "data": {
      "text/plain": [
       "tensor([0.9933])"
      ]
     },
     "execution_count": 7,
     "metadata": {},
     "output_type": "execute_result"
    }
   ],
   "source": [
    "import torch\n",
    "\n",
    "torch.nn.functional.sigmoid(torch.tensor([5]))"
   ]
  },
  {
   "cell_type": "code",
   "execution_count": null,
   "metadata": {},
   "outputs": [],
   "source": []
  }
 ],
 "metadata": {
  "kernelspec": {
   "display_name": ".venv",
   "language": "python",
   "name": "python3"
  },
  "language_info": {
   "codemirror_mode": {
    "name": "ipython",
    "version": 3
   },
   "file_extension": ".py",
   "mimetype": "text/x-python",
   "name": "python",
   "nbconvert_exporter": "python",
   "pygments_lexer": "ipython3",
   "version": "3.10.12"
  }
 },
 "nbformat": 4,
 "nbformat_minor": 2
}
