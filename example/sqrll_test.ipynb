{
 "cells": [
  {
   "cell_type": "code",
   "execution_count": 1,
   "metadata": {},
   "outputs": [],
   "source": [
    "import torch\n",
    "\n",
    "x = torch.rand((1, 4, 4)).cuda().requires_grad_()\n",
    "r = torch.rand_like(x).requires_grad_()\n",
    "prev = torch.rand_like(x[:,0]).requires_grad_()\n",
    "\n",
    "x2 = x.detach().clone().requires_grad_()\n",
    "r2 = r.detach().clone().requires_grad_()\n",
    "prev2 = prev.detach().clone().requires_grad_()"
   ]
  },
  {
   "cell_type": "code",
   "execution_count": 3,
   "metadata": {},
   "outputs": [
    {
     "data": {
      "text/plain": [
       "True"
      ]
     },
     "execution_count": 3,
     "metadata": {},
     "output_type": "execute_result"
    }
   ],
   "source": [
    "from sqrll.sqrll import SqrllKernel, naive_sqrll\n",
    "\n",
    "y = naive_sqrll(x, r, prev)\n",
    "y2 = SqrllKernel.apply(x2, r2, prev2)\n",
    "\n",
    "torch.allclose(y, y2)"
   ]
  },
  {
   "cell_type": "code",
   "execution_count": 4,
   "metadata": {},
   "outputs": [
    {
     "data": {
      "text/plain": [
       "(True, True, True)"
      ]
     },
     "execution_count": 4,
     "metadata": {},
     "output_type": "execute_result"
    }
   ],
   "source": [
    "y.sum().backward()\n",
    "y2.sum().backward()\n",
    "\n",
    "(\n",
    "    torch.allclose(x.grad, x2.grad), \n",
    "    torch.allclose(r.grad, r2.grad),\n",
    "    torch.allclose(prev.grad, prev2.grad),\n",
    ")\n"
   ]
  }
 ],
 "metadata": {
  "kernelspec": {
   "display_name": ".venv",
   "language": "python",
   "name": "python3"
  },
  "language_info": {
   "codemirror_mode": {
    "name": "ipython",
    "version": 3
   },
   "file_extension": ".py",
   "mimetype": "text/x-python",
   "name": "python",
   "nbconvert_exporter": "python",
   "pygments_lexer": "ipython3",
   "version": "3.10.12"
  }
 },
 "nbformat": 4,
 "nbformat_minor": 2
}
