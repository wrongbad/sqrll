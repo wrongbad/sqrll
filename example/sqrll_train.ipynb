{
 "cells": [
  {
   "cell_type": "code",
   "execution_count": 1,
   "metadata": {},
   "outputs": [
    {
     "name": "stdout",
     "output_type": "stream",
     "text": [
      "params=4,468,736\n"
     ]
    }
   ],
   "source": [
    "import torch\n",
    "from sqrll.sqrllm import SqrLLM\n",
    "from tqdm import tqdm\n",
    "import math\n",
    "\n",
    "assert torch.cuda.is_available()\n",
    "\n",
    "device = torch.device('cuda')\n",
    "dtype = torch.float32\n",
    "\n",
    "model = SqrLLM(\n",
    "    n_embed = 256,\n",
    "    n_mem = 512,\n",
    "    n_ffn = 256,\n",
    "    ffn_rate = 4,\n",
    "    n_layer = 6,\n",
    ").float().to(device)\n",
    "\n",
    "params = sum(p.numel() for p in model.parameters())\n",
    "print(f'{params=:,}')\n",
    "\n",
    "try:\n",
    "    model.load_state_dict(torch.load(f'./model{params}.pt'))\n",
    "    print('loaded')\n",
    "except:\n",
    "    pass"
   ]
  },
  {
   "cell_type": "code",
   "execution_count": 21,
   "metadata": {},
   "outputs": [],
   "source": [
    "\n",
    "from os.path import expanduser\n",
    "\n",
    "# files = ['finnegans_wake.txt'] * 4\n",
    "# files = files + [expanduser('~/dev/data/text/wiki/enwik8s/x08')] + files\n",
    "\n",
    "files = ['finnegans_wake.txt']\n",
    "files += [expanduser('~/dev/data/text/alice_in_wonderland.txt')] * 10\n",
    "files *= 20\n",
    "\n",
    "def file_iter(files=files, chunk=16384):\n",
    "    for fname in files:\n",
    "        with open(fname, 'rb') as f:\n",
    "            offset = torch.randint(0, chunk, ())\n",
    "            f.seek(offset, 0)\n",
    "            while len(x := f.read(chunk)) == chunk:\n",
    "                x = torch.frombuffer(x, dtype=torch.uint8)\n",
    "                yield x.to(device).long()\n",
    "\n",
    "def shuf_iter(src=file_iter(), bufsize=2048):\n",
    "    buffer = [None] * bufsize\n",
    "    for x in src:\n",
    "        i = torch.randint(0, bufsize, ())\n",
    "        out = buffer[i]\n",
    "        buffer[i] = x\n",
    "        if out is not None:\n",
    "            yield out\n",
    "    for out in buffer:\n",
    "        if out is not None:\n",
    "            yield out\n",
    "\n",
    "def batch_iter(src=shuf_iter(), batch=4):\n",
    "    buf = []\n",
    "    for x in src:\n",
    "        buf += [x]\n",
    "        if len(buf) == batch:\n",
    "            yield torch.stack(buf)\n",
    "            buf = []\n",
    "\n",
    "def train_iter(src=batch_iter(), chunk=4096):\n",
    "    for x in src:\n",
    "        for o in range(0, x.shape[1]-chunk+1, chunk):\n",
    "            yield x[:, o:o+chunk]\n",
    "\n",
    "trainset = train_iter()"
   ]
  },
  {
   "cell_type": "code",
   "execution_count": 22,
   "metadata": {},
   "outputs": [
    {
     "data": {
      "application/vnd.jupyter.widget-view+json": {
       "model_id": "1604898b91ca4af689fd0cabbe1a696e",
       "version_major": 2,
       "version_minor": 0
      },
      "text/plain": [
       "FigureWidget({\n",
       "    'data': [{'type': 'scatter', 'uid': '460fda97-c968-444e-89b2-14595a99e307'}],\n",
       "    'layout': {'margin': {'b': 20, 'l': 20, 'r': 20, 't': 20}, 'template': '...'}\n",
       "})"
      ]
     },
     "execution_count": 22,
     "metadata": {},
     "output_type": "execute_result"
    }
   ],
   "source": [
    "import plotly.graph_objects as go\n",
    "\n",
    "step = 0\n",
    "bpc_avg = 0\n",
    "bpc_curve = []\n",
    "off_curve = []\n",
    "bpc_win = []\n",
    "\n",
    "sfig = go.FigureWidget()\n",
    "sfig.add_scatter()\n",
    "sfig.update_layout(\n",
    "    margin=dict(l=20, r=20, t=20, b=20),\n",
    ")\n",
    "sfig"
   ]
  },
  {
   "cell_type": "code",
   "execution_count": 23,
   "metadata": {},
   "outputs": [
    {
     "name": "stderr",
     "output_type": "stream",
     "text": [
      "0.4369 bpc: : 3500it [01:48, 32.40it/s]\n"
     ]
    }
   ],
   "source": [
    "\n",
    "\n",
    "model.train().float().to(device)\n",
    "\n",
    "optimizer = torch.optim.Adam(\n",
    "    model.parameters(),\n",
    "    lr=1e-4,\n",
    "    betas=(0.9, 0.99),\n",
    "    weight_decay=0.0 # lr / 100\"\n",
    ")\n",
    "loss_func = torch.nn.CrossEntropyLoss()\n",
    "\n",
    "# model.reset_states()\n",
    "mem = None\n",
    "\n",
    "for data in (prog := tqdm(trainset)):\n",
    "\n",
    "    optimizer.zero_grad()\n",
    "\n",
    "    with torch.autocast(device_type='cuda', dtype=torch.bfloat16):\n",
    "        outputs, mem = model(data, mem)\n",
    "\n",
    "        targets = data[:, 1:].flatten()\n",
    "        outputs = outputs[:, :-1].flatten(0,1)\n",
    "\n",
    "        loss = loss_func(outputs, targets)\n",
    "\n",
    "    loss.backward()\n",
    "\n",
    "    optimizer.step()\n",
    "\n",
    "    step += 1\n",
    "    bpc = loss.item() / math.log(2)\n",
    "    bpc_win = bpc_win[-299:] + [bpc]\n",
    "    bpc_avg = sum(bpc_win) / len(bpc_win)\n",
    "    prog.set_description(f'{(bpc_avg):.4f} bpc')\n",
    "\n",
    "    if step % 64 == 0:\n",
    "        bpc_curve += [bpc_avg]\n",
    "        sfig.data[0].y = bpc_curve\n",
    "\n",
    "        for p in model.parameters():\n",
    "            p.data.clamp_(-20, 20)"
   ]
  },
  {
   "cell_type": "code",
   "execution_count": 24,
   "metadata": {},
   "outputs": [],
   "source": [
    "torch.save(model.state_dict(), f'./model{params}.pt')"
   ]
  },
  {
   "cell_type": "code",
   "execution_count": 25,
   "metadata": {},
   "outputs": [
    {
     "name": "stderr",
     "output_type": "stream",
     "text": [
      "100%|██████████| 200/200 [00:01<00:00, 123.58it/s]"
     ]
    },
    {
     "name": "stdout",
     "output_type": "stream",
     "text": [
      "What is the meaning of life? Well, you see me is come to you cuttinrunner on porpoise. He fell from him! Unhim! With his threestar chapelite soul is heavenly girled from cigarha beautiful science saltles, in Moly Saint Delestian’s hairs for \n"
     ]
    },
    {
     "name": "stderr",
     "output_type": "stream",
     "text": [
      "\n"
     ]
    }
   ],
   "source": [
    "gen = b'What is the meaning of life? Well, you see '\n",
    "entropy = 1\n",
    "\n",
    "model.eval().cpu()\n",
    "\n",
    "gen = torch.frombuffer(gen, dtype=torch.uint8)\n",
    "gen = gen.long()[None, :]\n",
    "prev_len = 0\n",
    "mem = None\n",
    "with torch.no_grad():\n",
    "    for t in tqdm(range(200)):\n",
    "        pred, mem = model(gen[:, prev_len:], mem)\n",
    "        pred = pred[0, -1:] / entropy\n",
    "        \n",
    "        choose = torch.multinomial(pred.softmax(dim=-1), 1)\n",
    "        \n",
    "        gen = torch.cat((gen, choose), dim=-1)\n",
    "\n",
    "out = bytes(gen[0].tolist()).decode('utf-8')\n",
    "print(out)"
   ]
  },
  {
   "cell_type": "code",
   "execution_count": null,
   "metadata": {},
   "outputs": [],
   "source": []
  }
 ],
 "metadata": {
  "kernelspec": {
   "display_name": ".venv",
   "language": "python",
   "name": "python3"
  },
  "language_info": {
   "codemirror_mode": {
    "name": "ipython",
    "version": 3
   },
   "file_extension": ".py",
   "mimetype": "text/x-python",
   "name": "python",
   "nbconvert_exporter": "python",
   "pygments_lexer": "ipython3",
   "version": "3.10.12"
  }
 },
 "nbformat": 4,
 "nbformat_minor": 2
}
