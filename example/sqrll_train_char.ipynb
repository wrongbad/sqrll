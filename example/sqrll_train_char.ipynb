{
 "cells": [
  {
   "cell_type": "code",
   "execution_count": 2,
   "metadata": {},
   "outputs": [
    {
     "name": "stdout",
     "output_type": "stream",
     "text": [
      "loaded\n",
      "params=2,339,200\n"
     ]
    }
   ],
   "source": [
    "import torch\n",
    "from sqrll.sqrllm import SqrllConfig, SqrLLM\n",
    "from tqdm import tqdm\n",
    "import math\n",
    "from os.path import expanduser\n",
    "\n",
    "assert torch.cuda.is_available()\n",
    "\n",
    "device = torch.device('cuda')\n",
    "dtype = torch.float32\n",
    "\n",
    "model_file = 'models/joyce.pt'\n",
    "\n",
    "try:\n",
    "    # no\n",
    "    model = SqrLLM.load(model_file)\n",
    "    print('loaded')\n",
    "except:\n",
    "    cfg = SqrllConfig(\n",
    "        n_embed = 128,\n",
    "        n_mem = 256,\n",
    "        n_ffn = 256,\n",
    "        ffn_rate = 4,\n",
    "        n_layer = 12,\n",
    "        dropout = 0.05,\n",
    "    )\n",
    "    model = SqrLLM(cfg)\n",
    "\n",
    "model = model.float().to(device)\n",
    "params = sum(p.numel() for p in model.parameters())\n",
    "print(f'{params=:,}')"
   ]
  },
  {
   "cell_type": "code",
   "execution_count": 3,
   "metadata": {},
   "outputs": [],
   "source": [
    "import random\n",
    "import sqrll.dataloaders as dl\n",
    "\n",
    "def train_iter():\n",
    "    files = []\n",
    "    files += ['finnegans_wake.txt'] * 50\n",
    "    # files += [expanduser('~/dev/data/text/wiki/enwik8_train.txt')]\n",
    "    # files += [expanduser('~/dev/data/text/alice_in_wonderland.txt')] * 10\n",
    "    random.shuffle(files)\n",
    "\n",
    "    data = dl.read_raw(files, chunk=16384)\n",
    "    data = dl.shuffle(data, bufsize=2048)\n",
    "    data = dl.str_tensor(data)\n",
    "    data = dl.tetris(data, batch=4, seqlen=2048)\n",
    "    data = dl.tensor_to(data, device)\n",
    "    data = dl.tensor_to(data, torch.int64)\n",
    "    return data"
   ]
  },
  {
   "cell_type": "code",
   "execution_count": 4,
   "metadata": {},
   "outputs": [
    {
     "data": {
      "application/vnd.jupyter.widget-view+json": {
       "model_id": "7fc5d1ce4995432eadf83e8d4784eac8",
       "version_major": 2,
       "version_minor": 0
      },
      "text/plain": [
       "FigureWidget({\n",
       "    'data': [{'type': 'scatter', 'uid': '1f17dd85-e84e-4835-8c4d-f53f057ed860'}],\n",
       "    'layout': {'margin': {'b': 20, 'l': 20, 'r': 20, 't': 20}, 'template': '...'}\n",
       "})"
      ]
     },
     "execution_count": 4,
     "metadata": {},
     "output_type": "execute_result"
    }
   ],
   "source": [
    "import plotly.graph_objects as go\n",
    "\n",
    "step = 0\n",
    "bpc_avg = 0\n",
    "tot_bytes = 0\n",
    "bpc_curve = []\n",
    "bytes_curve = []\n",
    "\n",
    "sfig = go.FigureWidget()\n",
    "sfig.add_scatter()\n",
    "sfig.update_layout(\n",
    "    margin=dict(l=20, r=20, t=20, b=20),\n",
    ")\n",
    "sfig"
   ]
  },
  {
   "cell_type": "code",
   "execution_count": 8,
   "metadata": {},
   "outputs": [
    {
     "name": "stderr",
     "output_type": "stream",
     "text": [
      "0.9214 bpc: 100%|██████████| 8001/8001 [02:34<00:00, 51.66it/s]\n"
     ]
    }
   ],
   "source": [
    "model.train().float().to(device)\n",
    "\n",
    "optimizer = torch.optim.AdamW(\n",
    "    model.parameters(),\n",
    "    lr=1e-4,\n",
    "    betas=(0.9, 0.999),\n",
    "    weight_decay=1e-5,\n",
    ")\n",
    "loss_func = torch.nn.CrossEntropyLoss()\n",
    "\n",
    "trainset = list(train_iter())\n",
    "\n",
    "mem = None\n",
    "\n",
    "for data in (prog := tqdm(trainset)):\n",
    "\n",
    "    optimizer.zero_grad()\n",
    "\n",
    "    with torch.autocast(device_type='cuda', dtype=torch.bfloat16):\n",
    "        outputs, mem = model(data, mem)\n",
    "\n",
    "        targets = data[:, 1:].flatten()\n",
    "        outputs = outputs[:, :-1].flatten(0,1)\n",
    "\n",
    "        loss = loss_func(outputs, targets)\n",
    "\n",
    "    loss.backward()\n",
    "\n",
    "    optimizer.step()\n",
    "    bpc = loss.item() / math.log(2)\n",
    "\n",
    "    step += 1\n",
    "    bpc_avg += (bpc - bpc_avg) / min(step, 500)\n",
    "\n",
    "    tot_bytes += data.numel()\n",
    "    prog.set_description(f'{(bpc_avg):.4f} bpc')\n",
    "\n",
    "    if step % 64 == 0:\n",
    "        bpc_curve += [bpc_avg]\n",
    "        bytes_curve += [tot_bytes]\n",
    "        sfig.data[0].y = bpc_curve\n",
    "        sfig.data[0].x = bytes_curve\n",
    "\n",
    "        for p in model.parameters():\n",
    "            p.data.clamp_(-20, 20)\n",
    "        \n",
    "        mem = None\n",
    "            \n",
    "    if step % 8192 == 0:\n",
    "        model.save(model_file)"
   ]
  },
  {
   "cell_type": "code",
   "execution_count": 6,
   "metadata": {},
   "outputs": [],
   "source": [
    "model.save(model_file)"
   ]
  },
  {
   "cell_type": "code",
   "execution_count": 7,
   "metadata": {},
   "outputs": [
    {
     "name": "stderr",
     "output_type": "stream",
     "text": [
      "/tmp/ipykernel_763941/3413643905.py:6: UserWarning:\n",
      "\n",
      "The given buffer is not writable, and PyTorch does not support non-writable tensors. This means you can write to the underlying (supposedly non-writable) buffer using the tensor. You may want to copy the buffer to protect its data or make it writable before converting it to a tensor. This type of warning will be suppressed for the rest of this program. (Triggered internally at ../torch/csrc/utils/tensor_new.cpp:1524.)\n",
      "\n",
      "  0%|          | 0/200 [00:00<?, ?it/s]"
     ]
    },
    {
     "name": "stderr",
     "output_type": "stream",
     "text": [
      "100%|██████████| 200/200 [00:02<00:00, 90.07it/s] "
     ]
    },
    {
     "name": "stdout",
     "output_type": "stream",
     "text": [
      "The meaning of life is down, scaldbrother, before he will be ground, nievre you, we say. Who would ontrifan, since we’re regularly abroadside in betinned the whole fairness of promise with considerable patriarch? That was\n"
     ]
    },
    {
     "name": "stderr",
     "output_type": "stream",
     "text": [
      "\n"
     ]
    }
   ],
   "source": [
    "gen = b'The meaning of life is '\n",
    "entropy = 1\n",
    "\n",
    "model.eval().cpu()\n",
    "\n",
    "gen = torch.frombuffer(gen, dtype=torch.uint8)\n",
    "gen = gen.long()[None, :]\n",
    "prev_len = 0\n",
    "mem = None\n",
    "with torch.no_grad():\n",
    "    for t in tqdm(range(200)):\n",
    "        pred, mem = model(gen[:, prev_len:], mem)\n",
    "        pred = pred[0, -1:] / entropy\n",
    "        \n",
    "        choose = torch.multinomial(pred.softmax(dim=-1), 1)\n",
    "        \n",
    "        gen = torch.cat((gen, choose), dim=-1)\n",
    "\n",
    "out = bytes(gen[0].tolist()).decode('utf-8')\n",
    "print(out)"
   ]
  },
  {
   "cell_type": "code",
   "execution_count": 30,
   "metadata": {},
   "outputs": [
    {
     "name": "stderr",
     "output_type": "stream",
     "text": [
      "1.3054: 100%|██████████| 1220/1220 [01:56<00:00, 10.44it/s]"
     ]
    },
    {
     "name": "stdout",
     "output_type": "stream",
     "text": [
      "acc=0.7388890500928534 bpc=1.305364990234375\n"
     ]
    },
    {
     "name": "stderr",
     "output_type": "stream",
     "text": [
      "\n"
     ]
    }
   ],
   "source": [
    "acc = 0\n",
    "bpc = 0\n",
    "count = 0\n",
    "\n",
    "fname = expanduser('~/dev/data/text/wiki/enwik8_test.txt')\n",
    "\n",
    "with open(fname, 'rb') as f:\n",
    "    x = f.read()\n",
    "    chunksz = 8192\n",
    "    nchunk = len(x) // chunksz\n",
    "    x = x[:nchunk * chunksz]\n",
    "    x = torch.frombuffer(x, dtype=torch.uint8)\n",
    "    x = x.to(device).long()\n",
    "    x = x.view(nchunk, 1, chunksz)\n",
    "\n",
    "testset = x\n",
    "\n",
    "model.eval().to(device)\n",
    "mem = None\n",
    "\n",
    "with torch.no_grad():\n",
    "    for data in (prog := tqdm(testset)):\n",
    "        \n",
    "        outputs, mem = model(data, mem)\n",
    "        outputs = outputs[:, :-1]\n",
    "        targets = data[:, 1:]\n",
    "        \n",
    "        argmax = outputs.argmax(dim=-1)\n",
    "        logmax = outputs.log_softmax(dim=-1)\n",
    "        bits = torch.gather(logmax, 2, targets[:,:,None])\n",
    "        \n",
    "        # if bits.isnan().any() or any(m.isnan().any() for m in mem):\n",
    "        #     print(f'{mem=}')\n",
    "        #     print(f'{outputs=}')\n",
    "        #     print(f'{logmax=}')\n",
    "        #     print(f'{bits=}')\n",
    "        #     break\n",
    "\n",
    "        \n",
    "        bpc -= bits.mean() / math.log(2)\n",
    "        acc += (targets == argmax).float().mean()\n",
    "        count += 1\n",
    "        prog.set_description(f'{bpc/count:.4f}')\n",
    "\n",
    "acc = acc.item() / count\n",
    "bpc = bpc.item() / count\n",
    "print(f'{acc=} {bpc=}')"
   ]
  },
  {
   "cell_type": "code",
   "execution_count": null,
   "metadata": {},
   "outputs": [],
   "source": []
  }
 ],
 "metadata": {
  "kernelspec": {
   "display_name": ".venv",
   "language": "python",
   "name": "python3"
  },
  "language_info": {
   "codemirror_mode": {
    "name": "ipython",
    "version": 3
   },
   "file_extension": ".py",
   "mimetype": "text/x-python",
   "name": "python",
   "nbconvert_exporter": "python",
   "pygments_lexer": "ipython3",
   "version": "3.10.12"
  }
 },
 "nbformat": 4,
 "nbformat_minor": 2
}
