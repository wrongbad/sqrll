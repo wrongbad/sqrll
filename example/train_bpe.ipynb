{
 "cells": [
  {
   "cell_type": "code",
   "execution_count": 1,
   "metadata": {},
   "outputs": [
    {
     "name": "stdout",
     "output_type": "stream",
     "text": [
      "[('/home/k/dev/data/text/wiki/zim/wikipedia_en_all_nopic_2024-04.zim', 15488067), ('/home/k/dev/data/text/wiki/zim/wikipedia_en_all_nopic_2024-04.zim', 12996471), ('/home/k/dev/data/text/wiki/zim/wikipedia_en_all_nopic_2024-04.zim', 6194792), ('/home/k/dev/data/text/wiki/zim/wikipedia_en_all_nopic_2024-04.zim', 4345870), ('/home/k/dev/data/text/wiki/zim/wikipedia_en_all_nopic_2024-04.zim', 5366439), ('/home/k/dev/data/text/wiki/zim/wikipedia_en_all_nopic_2024-04.zim', 16582831), ('/home/k/dev/data/text/wiki/zim/wikipedia_en_all_nopic_2024-04.zim', 3346975), ('/home/k/dev/data/text/wiki/zim/wikipedia_en_all_nopic_2024-04.zim', 2365476), ('/home/k/dev/data/text/wiki/zim/wikipedia_en_all_nopic_2024-04.zim', 17191701), ('/home/k/dev/data/text/wiki/zim/wikipedia_en_all_nopic_2024-04.zim', 15836810)]\n"
     ]
    },
    {
     "data": {
      "text/plain": [
       "'Team Finland represents Finland in women\\'s international roller derby, in events such as the Roller Derby World Cup.  The team was first formed to compete at the 2011 Roller Derby World Cup, and finished the tournament in fifth place.\\n\\nFinland\\'s first bout was on 8 October 2011, against Team Sweden in Helsinki, in what Stockholm Roller Derby claimed was \"the world\\'s first Roller Derby bout between two nations\".[1]  Finland lost by 135 points to 71.[2]\\n\\nAt the World Cup, Finland lost their quarter final to Team Canada by 499 points to 31, at that time the highest point spread in the tournament.[3]  They then beat France[4] and Sweden in the consolation stage, to finish in fifth place.[5]\\n\\n'"
      ]
     },
     "execution_count": 1,
     "metadata": {},
     "output_type": "execute_result"
    }
   ],
   "source": [
    "from os.path import expanduser\n",
    "\n",
    "from sqrll import zimloader\n",
    "from sqrll import dataloaders as dl\n",
    "\n",
    "# fname = expanduser('~/dev/data/text/wiki/enwik8_train.txt')\n",
    "# with open(fname, 'r', encoding='utf-8') as f:\n",
    "#     data = f.read()\n",
    "\n",
    "fname = expanduser('~/dev/data/text/wiki/zim/wikipedia_en_all_nopic_2024-04.zim')\n",
    "\n",
    "def text_iter():\n",
    "    data = zimloader.read_zims([fname], nthreads=12)\n",
    "    data = dl.take(data, 20000)\n",
    "    return data\n",
    "\n",
    "data = text_iter()\n",
    "next(data)"
   ]
  },
  {
   "cell_type": "code",
   "execution_count": 2,
   "metadata": {},
   "outputs": [
    {
     "name": "stderr",
     "output_type": "stream",
     "text": [
      "9999it [01:59, 83.75it/s] \n"
     ]
    },
    {
     "name": "stdout",
     "output_type": "stream",
     "text": [
      "\n",
      "\n",
      "\n"
     ]
    },
    {
     "data": {
      "text/plain": [
       "2048"
      ]
     },
     "execution_count": 2,
     "metadata": {},
     "output_type": "execute_result"
    }
   ],
   "source": [
    "from tqdm import tqdm\n",
    "from tokenizers.implementations import ByteLevelBPETokenizer\n",
    "\n",
    "n_vocab = 2048\n",
    "tokenizer = ByteLevelBPETokenizer()\n",
    "tokenizer.train_from_iterator(tqdm(data), vocab_size=n_vocab)\n",
    "\n",
    "n_vocab = tokenizer.get_vocab_size()\n",
    "token_file = f'models/tokenizer{n_vocab}.json'\n",
    "tokenizer.save(token_file)\n",
    "\n",
    "n_vocab"
   ]
  },
  {
   "cell_type": "code",
   "execution_count": null,
   "metadata": {},
   "outputs": [],
   "source": [
    "# train_toks = tokenizer.encode(data)\n",
    "# len(train_toks)"
   ]
  },
  {
   "cell_type": "code",
   "execution_count": null,
   "metadata": {},
   "outputs": [],
   "source": [
    "# import numpy as np\n",
    "\n",
    "# data_bytes = bytes(data, 'utf-8')\n",
    "# orig_bits = len(data_bytes) * 8\n",
    "# new_bits = len(train_toks) * np.log2(n_vocab)\n",
    "# pre_compression = new_bits/orig_bits\n",
    "# pre_compression"
   ]
  }
 ],
 "metadata": {
  "kernelspec": {
   "display_name": ".venv",
   "language": "python",
   "name": "python3"
  },
  "language_info": {
   "codemirror_mode": {
    "name": "ipython",
    "version": 3
   },
   "file_extension": ".py",
   "mimetype": "text/x-python",
   "name": "python",
   "nbconvert_exporter": "python",
   "pygments_lexer": "ipython3",
   "version": "3.10.12"
  }
 },
 "nbformat": 4,
 "nbformat_minor": 2
}
