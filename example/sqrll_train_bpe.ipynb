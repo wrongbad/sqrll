{
 "cells": [
  {
   "cell_type": "code",
   "execution_count": 52,
   "metadata": {},
   "outputs": [
    {
     "name": "stdout",
     "output_type": "stream",
     "text": [
      "n_vocab=2048\n",
      "loaded\n",
      "params=11,698,432\n"
     ]
    }
   ],
   "source": [
    "# import os\n",
    "# os.environ['TOKENIZERS_PARALLELISM'] = 'false'\n",
    "\n",
    "import torch\n",
    "from sqrll.sqrllm import SqrllConfig, SqrLLM\n",
    "# from tokenizers import Tokenizer\n",
    "import btok\n",
    "\n",
    "assert torch.cuda.is_available()\n",
    "\n",
    "device = torch.device('cuda')\n",
    "dtype = torch.float32\n",
    "\n",
    "n_vocab = 2048\n",
    "model_file = f'models/model{n_vocab}wu.pt'\n",
    "token_file = f'models/bpe{n_vocab}wu.pack'\n",
    "\n",
    "\n",
    "# tokenizer = Tokenizer.from_file(token_file)\n",
    "# n_vocab = tokenizer.get_vocab_size()\n",
    "with open(token_file, 'rb') as f:\n",
    "    tokenizer = btok.Tokenizer(f.read())\n",
    "n_vocab = tokenizer.num_tokens()\n",
    "print(f'{n_vocab=}')\n",
    "\n",
    "try:\n",
    "    model = SqrLLM.load(model_file)\n",
    "    print('loaded')\n",
    "except:\n",
    "    cfg = SqrllConfig(\n",
    "        n_in = n_vocab,\n",
    "        n_out = n_vocab,\n",
    "        n_embed = 256,\n",
    "        n_mem = 384,\n",
    "        n_ffn = 384,\n",
    "        ffn_rate = 3,\n",
    "        n_layer = 18,\n",
    "        dropout = 0.05,\n",
    "    )\n",
    "    model = SqrLLM(cfg)\n",
    "\n",
    "model = model.float().to(device)\n",
    "params = sum(p.numel() for p in model.parameters())\n",
    "print(f'{params=:,}')"
   ]
  },
  {
   "cell_type": "code",
   "execution_count": 53,
   "metadata": {},
   "outputs": [
    {
     "data": {
      "text/plain": [
       "3.3505859375"
      ]
     },
     "execution_count": 53,
     "metadata": {},
     "output_type": "execute_result"
    }
   ],
   "source": [
    "vocab = ([tokenizer.token(i) for i in range(n_vocab)])\n",
    "vocab_lens = [len(v) for v in vocab]\n",
    "vocab_lens = torch.tensor(vocab_lens, device=device)\n",
    "vocab_lens.float().mean().item()"
   ]
  },
  {
   "cell_type": "code",
   "execution_count": 54,
   "metadata": {},
   "outputs": [],
   "source": [
    "from sqrll import zimloader\n",
    "from sqrll import dataloaders as dl\n",
    "from os.path import expanduser\n",
    "\n",
    "def tokenize(x):\n",
    "    x = bytes(x, 'utf8') if type(x)==str else x\n",
    "    x = tokenizer.encode(x)\n",
    "    return torch.tensor(x)\n",
    "\n",
    "def train_iter():\n",
    "    # data_zim = [expanduser('~/dev/data/text/wiki/zim/wikipedia_en_all_nopic_2024-04.shuf.txt')]\n",
    "    # data_zim = dl.read_raw(data_zim, chunk=65536)\n",
    "\n",
    "    data_zim = [expanduser('~/dev/data/text/wiki/zim/wikipedia_en_all_nopic_2024-04.zim')]\n",
    "    data_zim = zimloader.read_zims(data_zim, nthreads=6)\n",
    "\n",
    "    data_simp = [expanduser('~/dev/data/text/wiki/zim/wikipedia_en_simple_all_nopic_2024-05.zim')]\n",
    "    data_simp = zimloader.read_zims(data_simp, nthreads=6)\n",
    "\n",
    "    data_qa = [expanduser('~/dev/data/text/squad/train-v2.0-flat.txt')] * 10\n",
    "    data_qa = dl.read_raw(data_qa, chunk=2048)\n",
    "    data_qa = dl.shuffle(data_qa, bufsize=4096)\n",
    "\n",
    "    data = dl.mix(data_zim, data_simp, data_qa)\n",
    "    data = dl.shuffle(data, bufsize=16)\n",
    "    # data = dl.mix(data_zim)\n",
    "    \n",
    "    # data = dl.tokenize(data, tokenizer)\n",
    "\n",
    "    data = map(tokenize, data)\n",
    "\n",
    "    data = dl.tetris(data, batch=8, seqlen=2048)\n",
    "    data = dl.tensor_to(data, device)\n",
    "    return data\n",
    "\n",
    "    \n",
    "trainset = train_iter()"
   ]
  },
  {
   "cell_type": "code",
   "execution_count": 55,
   "metadata": {},
   "outputs": [
    {
     "data": {
      "application/vnd.jupyter.widget-view+json": {
       "model_id": "60788137e7ec485cbe72205b71126911",
       "version_major": 2,
       "version_minor": 0
      },
      "text/plain": [
       "FigureWidget({\n",
       "    'data': [{'type': 'scatter', 'uid': '2dca34d0-8aef-4f28-92fe-567cdbb13850'}],\n",
       "    'layout': {'margin': {'b': 20, 'l': 20, 'r': 20, 't': 20}, 'template': '...'}\n",
       "})"
      ]
     },
     "execution_count": 55,
     "metadata": {},
     "output_type": "execute_result"
    }
   ],
   "source": [
    "import plotly.graph_objects as go\n",
    "\n",
    "step = 0\n",
    "bpc_avg = 0\n",
    "tot_bytes = 0\n",
    "bpc_curve = []\n",
    "bytes_curve = []\n",
    "\n",
    "sfig = go.FigureWidget()\n",
    "sfig.add_scatter()\n",
    "sfig.update_layout(\n",
    "    margin=dict(l=20, r=20, t=20, b=20),\n",
    ")\n",
    "sfig"
   ]
  },
  {
   "cell_type": "code",
   "execution_count": 57,
   "metadata": {},
   "outputs": [
    {
     "name": "stdout",
     "output_type": "stream",
     "text": [
      "lr=0.0001\n"
     ]
    },
    {
     "name": "stderr",
     "output_type": "stream",
     "text": [
      "1.4007 bpc: : 86456it [1:39:54, 14.42it/s]\n"
     ]
    },
    {
     "ename": "KeyboardInterrupt",
     "evalue": "",
     "output_type": "error",
     "traceback": [
      "\u001b[0;31m---------------------------------------------------------------------------\u001b[0m",
      "\u001b[0;31mKeyboardInterrupt\u001b[0m                         Traceback (most recent call last)",
      "Cell \u001b[0;32mIn[57], line 36\u001b[0m\n\u001b[1;32m     32\u001b[0m     bits \u001b[38;5;241m=\u001b[39m \u001b[38;5;241m-\u001b[39mtorch\u001b[38;5;241m.\u001b[39mgather(outputs, \u001b[38;5;241m2\u001b[39m, targets)\n\u001b[1;32m     34\u001b[0m     loss \u001b[38;5;241m=\u001b[39m bits\u001b[38;5;241m.\u001b[39mmean()\n\u001b[0;32m---> 36\u001b[0m \u001b[43mloss\u001b[49m\u001b[38;5;241;43m.\u001b[39;49m\u001b[43mbackward\u001b[49m\u001b[43m(\u001b[49m\u001b[43m)\u001b[49m\n\u001b[1;32m     38\u001b[0m optimizer\u001b[38;5;241m.\u001b[39mstep()\n\u001b[1;32m     39\u001b[0m bpc \u001b[38;5;241m=\u001b[39m (bits \u001b[38;5;241m/\u001b[39m vocab_lens[targets])\u001b[38;5;241m.\u001b[39mmean()\u001b[38;5;241m.\u001b[39mitem() \u001b[38;5;241m/\u001b[39m math\u001b[38;5;241m.\u001b[39mlog(\u001b[38;5;241m2\u001b[39m)\n",
      "File \u001b[0;32m~/dev/.venv/lib/python3.10/site-packages/torch/_tensor.py:525\u001b[0m, in \u001b[0;36mTensor.backward\u001b[0;34m(self, gradient, retain_graph, create_graph, inputs)\u001b[0m\n\u001b[1;32m    515\u001b[0m \u001b[38;5;28;01mif\u001b[39;00m has_torch_function_unary(\u001b[38;5;28mself\u001b[39m):\n\u001b[1;32m    516\u001b[0m     \u001b[38;5;28;01mreturn\u001b[39;00m handle_torch_function(\n\u001b[1;32m    517\u001b[0m         Tensor\u001b[38;5;241m.\u001b[39mbackward,\n\u001b[1;32m    518\u001b[0m         (\u001b[38;5;28mself\u001b[39m,),\n\u001b[0;32m   (...)\u001b[0m\n\u001b[1;32m    523\u001b[0m         inputs\u001b[38;5;241m=\u001b[39minputs,\n\u001b[1;32m    524\u001b[0m     )\n\u001b[0;32m--> 525\u001b[0m \u001b[43mtorch\u001b[49m\u001b[38;5;241;43m.\u001b[39;49m\u001b[43mautograd\u001b[49m\u001b[38;5;241;43m.\u001b[39;49m\u001b[43mbackward\u001b[49m\u001b[43m(\u001b[49m\n\u001b[1;32m    526\u001b[0m \u001b[43m    \u001b[49m\u001b[38;5;28;43mself\u001b[39;49m\u001b[43m,\u001b[49m\u001b[43m \u001b[49m\u001b[43mgradient\u001b[49m\u001b[43m,\u001b[49m\u001b[43m \u001b[49m\u001b[43mretain_graph\u001b[49m\u001b[43m,\u001b[49m\u001b[43m \u001b[49m\u001b[43mcreate_graph\u001b[49m\u001b[43m,\u001b[49m\u001b[43m \u001b[49m\u001b[43minputs\u001b[49m\u001b[38;5;241;43m=\u001b[39;49m\u001b[43minputs\u001b[49m\n\u001b[1;32m    527\u001b[0m \u001b[43m\u001b[49m\u001b[43m)\u001b[49m\n",
      "File \u001b[0;32m~/dev/.venv/lib/python3.10/site-packages/torch/autograd/__init__.py:267\u001b[0m, in \u001b[0;36mbackward\u001b[0;34m(tensors, grad_tensors, retain_graph, create_graph, grad_variables, inputs)\u001b[0m\n\u001b[1;32m    262\u001b[0m     retain_graph \u001b[38;5;241m=\u001b[39m create_graph\n\u001b[1;32m    264\u001b[0m \u001b[38;5;66;03m# The reason we repeat the same comment below is that\u001b[39;00m\n\u001b[1;32m    265\u001b[0m \u001b[38;5;66;03m# some Python versions print out the first line of a multi-line function\u001b[39;00m\n\u001b[1;32m    266\u001b[0m \u001b[38;5;66;03m# calls in the traceback and some print out the last line\u001b[39;00m\n\u001b[0;32m--> 267\u001b[0m \u001b[43m_engine_run_backward\u001b[49m\u001b[43m(\u001b[49m\n\u001b[1;32m    268\u001b[0m \u001b[43m    \u001b[49m\u001b[43mtensors\u001b[49m\u001b[43m,\u001b[49m\n\u001b[1;32m    269\u001b[0m \u001b[43m    \u001b[49m\u001b[43mgrad_tensors_\u001b[49m\u001b[43m,\u001b[49m\n\u001b[1;32m    270\u001b[0m \u001b[43m    \u001b[49m\u001b[43mretain_graph\u001b[49m\u001b[43m,\u001b[49m\n\u001b[1;32m    271\u001b[0m \u001b[43m    \u001b[49m\u001b[43mcreate_graph\u001b[49m\u001b[43m,\u001b[49m\n\u001b[1;32m    272\u001b[0m \u001b[43m    \u001b[49m\u001b[43minputs\u001b[49m\u001b[43m,\u001b[49m\n\u001b[1;32m    273\u001b[0m \u001b[43m    \u001b[49m\u001b[43mallow_unreachable\u001b[49m\u001b[38;5;241;43m=\u001b[39;49m\u001b[38;5;28;43;01mTrue\u001b[39;49;00m\u001b[43m,\u001b[49m\n\u001b[1;32m    274\u001b[0m \u001b[43m    \u001b[49m\u001b[43maccumulate_grad\u001b[49m\u001b[38;5;241;43m=\u001b[39;49m\u001b[38;5;28;43;01mTrue\u001b[39;49;00m\u001b[43m,\u001b[49m\n\u001b[1;32m    275\u001b[0m \u001b[43m\u001b[49m\u001b[43m)\u001b[49m\n",
      "File \u001b[0;32m~/dev/.venv/lib/python3.10/site-packages/torch/autograd/graph.py:744\u001b[0m, in \u001b[0;36m_engine_run_backward\u001b[0;34m(t_outputs, *args, **kwargs)\u001b[0m\n\u001b[1;32m    742\u001b[0m     unregister_hooks \u001b[38;5;241m=\u001b[39m _register_logging_hooks_on_whole_graph(t_outputs)\n\u001b[1;32m    743\u001b[0m \u001b[38;5;28;01mtry\u001b[39;00m:\n\u001b[0;32m--> 744\u001b[0m     \u001b[38;5;28;01mreturn\u001b[39;00m \u001b[43mVariable\u001b[49m\u001b[38;5;241;43m.\u001b[39;49m\u001b[43m_execution_engine\u001b[49m\u001b[38;5;241;43m.\u001b[39;49m\u001b[43mrun_backward\u001b[49m\u001b[43m(\u001b[49m\u001b[43m  \u001b[49m\u001b[38;5;66;43;03m# Calls into the C++ engine to run the backward pass\u001b[39;49;00m\n\u001b[1;32m    745\u001b[0m \u001b[43m        \u001b[49m\u001b[43mt_outputs\u001b[49m\u001b[43m,\u001b[49m\u001b[43m \u001b[49m\u001b[38;5;241;43m*\u001b[39;49m\u001b[43margs\u001b[49m\u001b[43m,\u001b[49m\u001b[43m \u001b[49m\u001b[38;5;241;43m*\u001b[39;49m\u001b[38;5;241;43m*\u001b[39;49m\u001b[43mkwargs\u001b[49m\n\u001b[1;32m    746\u001b[0m \u001b[43m    \u001b[49m\u001b[43m)\u001b[49m  \u001b[38;5;66;03m# Calls into the C++ engine to run the backward pass\u001b[39;00m\n\u001b[1;32m    747\u001b[0m \u001b[38;5;28;01mfinally\u001b[39;00m:\n\u001b[1;32m    748\u001b[0m     \u001b[38;5;28;01mif\u001b[39;00m attach_logging_hooks:\n",
      "\u001b[0;31mKeyboardInterrupt\u001b[0m: "
     ]
    }
   ],
   "source": [
    "import math\n",
    "from tqdm import tqdm\n",
    "\n",
    "model.train().float().to(device)\n",
    "\n",
    "lr = 1e-4\n",
    "print(f'{lr=}')\n",
    "optimizer = torch.optim.AdamW(\n",
    "    model.parameters(),\n",
    "    lr=lr,\n",
    "    betas=(0.9, 0.999),\n",
    "    weight_decay=4e-6,\n",
    ")\n",
    "loss_func = torch.nn.CrossEntropyLoss()\n",
    "\n",
    "mem = None\n",
    "\n",
    "for data in (prog := tqdm(trainset)):\n",
    "\n",
    "    optimizer.zero_grad()\n",
    "\n",
    "    with torch.autocast(device_type='cuda', dtype=torch.bfloat16):\n",
    "        outputs, mem = model(data, mem)\n",
    "\n",
    "        # targets = data[:, 1:].flatten()\n",
    "        # outputs = outputs[:, :-1].flatten(0,1)\n",
    "        # loss = loss_func(outputs, targets)\n",
    "            \n",
    "        targets = data[:, 1:, None]\n",
    "        outputs = outputs[:, :-1, :].log_softmax(dim=-1)\n",
    "        bits = -torch.gather(outputs, 2, targets)\n",
    "\n",
    "        loss = bits.mean()\n",
    "\n",
    "    loss.backward()\n",
    "\n",
    "    optimizer.step()\n",
    "    bpc = (bits / vocab_lens[targets]).mean().item() / math.log(2)\n",
    "\n",
    "    step += 1\n",
    "    bpc_avg += (bpc - bpc_avg) / min(step, 500)\n",
    "\n",
    "    tot_bytes += data.numel()\n",
    "    prog.set_description(f'{(bpc_avg):.4f} bpc')\n",
    "\n",
    "    if step % 64 == 0:\n",
    "        bpc_curve += [bpc_avg]\n",
    "        bytes_curve += [tot_bytes]\n",
    "        sfig.data[0].y = bpc_curve\n",
    "        sfig.data[0].x = bytes_curve\n",
    "\n",
    "        for p in model.parameters():\n",
    "            p.data.clamp_(-20, 20)\n",
    "        \n",
    "        mem = None\n",
    "            \n",
    "    if step % 8192 == 0:\n",
    "        model.save(model_file)"
   ]
  },
  {
   "cell_type": "code",
   "execution_count": 51,
   "metadata": {},
   "outputs": [],
   "source": [
    "model.save(model_file)"
   ]
  },
  {
   "cell_type": "code",
   "execution_count": 42,
   "metadata": {},
   "outputs": [
    {
     "name": "stderr",
     "output_type": "stream",
     "text": [
      "100%|██████████| 200/200 [00:00<00:00, 202.20it/s]"
     ]
    },
    {
     "name": "stdout",
     "output_type": "stream",
     "text": [
      "中华人民共和国公國史合实在安国公原光子形世界光南女加皇国語国公六人辰人兵平國加南大学元大一式大牡人理元务德公天博大子政実女寺，宮语李伝元安家太宮復\n"
     ]
    },
    {
     "name": "stderr",
     "output_type": "stream",
     "text": [
      "\n"
     ]
    }
   ],
   "source": [
    "# gen = b'The meaning of life is '\n",
    "# gen = b'What is the meaning of life?\\n'\n",
    "# gen = bytes('Where is 中华人民共和国?\\n', 'utf8')\n",
    "# gen = bytes('中华人民共和国', 'utf8')\n",
    "# gen = b'death destruction hate and murder'\n",
    "gen = tokenize(gen)\n",
    "gen = dl.batch([gen], 1)\n",
    "gen = next(gen).to(device)\n",
    "\n",
    "entropy = 0.5\n",
    "\n",
    "model.eval()\n",
    "\n",
    "# gen = torch.frombuffer(gen, dtype=torch.uint8)\n",
    "# gen = gen.long()[None, :]\n",
    "prev_len = 0\n",
    "mem = None\n",
    "with torch.no_grad():\n",
    "    for t in tqdm(range(200)):\n",
    "        pred, mem = model(gen[:, prev_len:], mem)\n",
    "        pred = pred[0, -1:] / entropy\n",
    "        \n",
    "        choose = torch.multinomial(pred.softmax(dim=-1), 1)\n",
    "        \n",
    "        gen = torch.cat((gen, choose), dim=-1)\n",
    "\n",
    "# out = bytes(gen[0].tolist()).decode('utf-8')\n",
    "\n",
    "gen = gen[0].tolist()\n",
    "out = tokenizer.decode(gen)\n",
    "out = str(out, 'utf8', errors=\"ignore\")\n",
    "\n",
    "print(out)"
   ]
  },
  {
   "cell_type": "code",
   "execution_count": null,
   "metadata": {},
   "outputs": [
    {
     "name": "stderr",
     "output_type": "stream",
     "text": [
      "1.6812: 100%|██████████| 421/421 [00:32<00:00, 12.90it/s]"
     ]
    },
    {
     "name": "stdout",
     "output_type": "stream",
     "text": [
      "acc=0.4699897675502895 bpc=1.6811940598583646\n"
     ]
    },
    {
     "name": "stderr",
     "output_type": "stream",
     "text": [
      "\n"
     ]
    }
   ],
   "source": [
    "acc = 0\n",
    "bpc = 0\n",
    "count = 0\n",
    "\n",
    "fname = expanduser('~/dev/data/text/wiki/enwik8_test.txt')\n",
    "\n",
    "with open(fname, 'r', encoding='utf-8') as f:\n",
    "    x = f.read()\n",
    "    x = tokenizer.encode(x).ids\n",
    "    x = torch.tensor(x).to(device)\n",
    "\n",
    "    chunksz = 8192\n",
    "    nchunk = len(x) // chunksz\n",
    "    x = x[:nchunk * chunksz]\n",
    "    x = x.view(nchunk, 1, chunksz)\n",
    "\n",
    "testset = x\n",
    "\n",
    "model.eval().to(device)\n",
    "mem = None\n",
    "\n",
    "with torch.no_grad():\n",
    "    for data in (prog := tqdm(testset)):\n",
    "        \n",
    "        outputs, mem = model(data, mem)\n",
    "        outputs = outputs[:, :-1, :].log_softmax(dim=-1)\n",
    "        targets = data[:, 1:, None]\n",
    "        \n",
    "        argmax = outputs.argmax(dim=-1)\n",
    "        bits = -torch.gather(outputs, 2, targets)\n",
    "        \n",
    "        # if bits.isnan().any() or any(m.isnan().any() for m in mem):\n",
    "        #     print(f'{mem=}')\n",
    "        #     print(f'{outputs=}')\n",
    "        #     print(f'{logmax=}')\n",
    "        #     print(f'{bits=}')\n",
    "        #     break\n",
    "\n",
    "        \n",
    "        bpc += (bits / vocab_lens[targets]).mean().item() / np.log(2)\n",
    "\n",
    "        acc += (targets[:,:,0] == argmax).float().mean()\n",
    "        count += 1\n",
    "        prog.set_description(f'{bpc/count:.4f}')\n",
    "\n",
    "acc = acc.item() / count\n",
    "bpc = bpc.item() / count\n",
    "print(f'{acc=} {bpc=}')"
   ]
  },
  {
   "cell_type": "code",
   "execution_count": null,
   "metadata": {},
   "outputs": [],
   "source": []
  }
 ],
 "metadata": {
  "kernelspec": {
   "display_name": ".venv",
   "language": "python",
   "name": "python3"
  },
  "language_info": {
   "codemirror_mode": {
    "name": "ipython",
    "version": 3
   },
   "file_extension": ".py",
   "mimetype": "text/x-python",
   "name": "python",
   "nbconvert_exporter": "python",
   "pygments_lexer": "ipython3",
   "version": "3.10.12"
  }
 },
 "nbformat": 4,
 "nbformat_minor": 2
}
