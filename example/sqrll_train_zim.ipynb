{
 "cells": [
  {
   "cell_type": "code",
   "execution_count": 1,
   "metadata": {},
   "outputs": [
    {
     "name": "stdout",
     "output_type": "stream",
     "text": [
      "params=36,491,008\n"
     ]
    }
   ],
   "source": [
    "import torch\n",
    "from sqrll.sqrllm import SqrLLM\n",
    "from tqdm import tqdm\n",
    "import math\n",
    "\n",
    "assert torch.cuda.is_available()\n",
    "\n",
    "device = torch.device('cuda')\n",
    "dtype = torch.float32\n",
    "\n",
    "model = SqrLLM(\n",
    "    n_embed = 512,\n",
    "    n_mem = 768,\n",
    "    n_ffn = 1024,\n",
    "    ffn_rate = 4,\n",
    "    n_layer = 16,\n",
    ").float().to(device)\n",
    "\n",
    "params = sum(p.numel() for p in model.parameters())\n",
    "print(f'{params=:,}')\n",
    "\n",
    "try:\n",
    "    model.load_state_dict(torch.load(f'models/model{params}.pt'))\n",
    "    print('loaded')\n",
    "except:\n",
    "    pass\n"
   ]
  },
  {
   "cell_type": "code",
   "execution_count": 2,
   "metadata": {},
   "outputs": [],
   "source": [
    "from libzim.reader import Archive\n",
    "from bs4 import BeautifulSoup\n",
    "import multiprocessing\n",
    "import collections\n",
    "\n",
    "from os.path import expanduser\n",
    "import random\n",
    "import re\n",
    "import numpy as np\n",
    "\n",
    "# zname = expanduser('~/dev/data/text/wiki/zim/wikipedia_en_simple_all_nopic_2024-05.zim')\n",
    "zname = expanduser('~/dev/data/text/wiki/zim/wikipedia_en_all_nopic_2024-04.zim')\n",
    "zim = Archive(zname)\n",
    "space_re = re.compile(r'\\n\\s*\\n')\n",
    "\n",
    "\n",
    "def map_parallel(func, data, lookahead=128, workers=16, timeout=20):\n",
    "    with multiprocessing.Pool(workers) as pool:\n",
    "        q = collections.deque()\n",
    "        for x in data:\n",
    "            q.append(pool.apply_async(func, (x,)))\n",
    "            if len(q) >= lookahead:\n",
    "                if (r := q.popleft().get(timeout=timeout)) is not None:\n",
    "                    yield r\n",
    "        while len(q):\n",
    "            if (r := q.popleft().get(timeout=timeout)) is not None:\n",
    "                yield r\n",
    "\n",
    "\n",
    "def tetris(data, batch=16, seqlen=256):\n",
    "    seqs = [[]] * batch\n",
    "    seq_len = np.zeros(batch, dtype=int)\n",
    "    for d in data:\n",
    "        insert = np.argmin(seq_len)\n",
    "        if seq_len[insert] == 0:\n",
    "            seqs[insert] = d\n",
    "        else:\n",
    "            seqs[insert] = torch.cat((seqs[insert], d), dim=0)\n",
    "        seq_len[insert] += len(d)\n",
    "\n",
    "        while np.min(seq_len) >= seqlen:\n",
    "            yield torch.stack([\n",
    "                s[:seqlen] for s in seqs\n",
    "            ], dim=0)\n",
    "            seqs = [s[seqlen:] for s in seqs]\n",
    "            seq_len -= seqlen\n",
    "\n",
    "\n",
    "def read_zim_entry(page_id):\n",
    "    entry = zim._get_entry_by_id(page_id).get_item()\n",
    "    if entry.mimetype != 'text/html':\n",
    "        return None\n",
    "    entry = entry.content.tobytes().decode('utf-8')\n",
    "    entry = BeautifulSoup(entry).get_text()\n",
    "    entry = re.sub(space_re, '\\n\\n', entry)\n",
    "    entry = bytes(entry, 'utf-8')\n",
    "    entry = torch.frombuffer(entry, dtype=torch.uint8)\n",
    "    return entry\n",
    "\n",
    "\n",
    "def dataset(batch, seqlen):\n",
    "    page_ids = list(range(zim.all_entry_count))\n",
    "    random.shuffle(page_ids)\n",
    "    data = map_parallel(read_zim_entry, page_ids, \n",
    "        workers=4, lookahead=128, timeout=30)\n",
    "\n",
    "    data = tetris(data, batch, seqlen)\n",
    "    data = map(lambda e:e.long().to(device), data)\n",
    "    return data\n"
   ]
  },
  {
   "cell_type": "code",
   "execution_count": 3,
   "metadata": {},
   "outputs": [
    {
     "data": {
      "application/vnd.jupyter.widget-view+json": {
       "model_id": "d0bdb5a525bb4cfebaa401c7606facce",
       "version_major": 2,
       "version_minor": 0
      },
      "text/plain": [
       "FigureWidget({\n",
       "    'data': [{'type': 'scatter', 'uid': '78bd1577-0c45-4a0c-8a9f-cfb0b642f99e'}],\n",
       "    'layout': {'margin': {'b': 20, 'l': 20, 'r': 20, 't': 20}, 'template': '...'}\n",
       "})"
      ]
     },
     "execution_count": 3,
     "metadata": {},
     "output_type": "execute_result"
    }
   ],
   "source": [
    "import plotly.graph_objects as go\n",
    "\n",
    "step = 0\n",
    "bpc_avg = 0\n",
    "tot_bytes = 0\n",
    "bpc_curve = []\n",
    "bytes_curve = []\n",
    "\n",
    "trainset = dataset(batch=4, seqlen=2048)\n",
    "\n",
    "sfig = go.FigureWidget()\n",
    "sfig.add_scatter()\n",
    "sfig.update_layout(\n",
    "    margin=dict(l=20, r=20, t=20, b=20),\n",
    ")\n",
    "sfig"
   ]
  },
  {
   "cell_type": "code",
   "execution_count": 4,
   "metadata": {},
   "outputs": [
    {
     "name": "stderr",
     "output_type": "stream",
     "text": [
      "0it [00:00, ?it/s]/tmp/ipykernel_31757/4277175988.py:57: UserWarning:\n",
      "\n",
      "The given buffer is not writable, and PyTorch does not support non-writable tensors. This means you can write to the underlying (supposedly non-writable) buffer using the tensor. You may want to copy the buffer to protect its data or make it writable before converting it to a tensor. This type of warning will be suppressed for the rest of this program. (Triggered internally at ../torch/csrc/utils/tensor_new.cpp:1524.)\n",
      "\n",
      "/tmp/ipykernel_31757/4277175988.py:57: UserWarning:\n",
      "\n",
      "The given buffer is not writable, and PyTorch does not support non-writable tensors. This means you can write to the underlying (supposedly non-writable) buffer using the tensor. You may want to copy the buffer to protect its data or make it writable before converting it to a tensor. This type of warning will be suppressed for the rest of this program. (Triggered internally at ../torch/csrc/utils/tensor_new.cpp:1524.)\n",
      "\n",
      "/tmp/ipykernel_31757/4277175988.py:57: UserWarning:\n",
      "\n",
      "The given buffer is not writable, and PyTorch does not support non-writable tensors. This means you can write to the underlying (supposedly non-writable) buffer using the tensor. You may want to copy the buffer to protect its data or make it writable before converting it to a tensor. This type of warning will be suppressed for the rest of this program. (Triggered internally at ../torch/csrc/utils/tensor_new.cpp:1524.)\n",
      "\n",
      "/tmp/ipykernel_31757/4277175988.py:57: UserWarning:\n",
      "\n",
      "The given buffer is not writable, and PyTorch does not support non-writable tensors. This means you can write to the underlying (supposedly non-writable) buffer using the tensor. You may want to copy the buffer to protect its data or make it writable before converting it to a tensor. This type of warning will be suppressed for the rest of this program. (Triggered internally at ../torch/csrc/utils/tensor_new.cpp:1524.)\n",
      "\n",
      "/tmp/ipykernel_31757/4277175988.py:57: UserWarning:\n",
      "\n",
      "The given buffer is not writable, and PyTorch does not support non-writable tensors. This means you can write to the underlying (supposedly non-writable) buffer using the tensor. You may want to copy the buffer to protect its data or make it writable before converting it to a tensor. This type of warning will be suppressed for the rest of this program. (Triggered internally at ../torch/csrc/utils/tensor_new.cpp:1524.)\n",
      "\n",
      "/tmp/ipykernel_31757/4277175988.py:57: UserWarning:\n",
      "\n",
      "The given buffer is not writable, and PyTorch does not support non-writable tensors. This means you can write to the underlying (supposedly non-writable) buffer using the tensor. You may want to copy the buffer to protect its data or make it writable before converting it to a tensor. This type of warning will be suppressed for the rest of this program. (Triggered internally at ../torch/csrc/utils/tensor_new.cpp:1524.)\n",
      "\n",
      "/tmp/ipykernel_31757/4277175988.py:57: UserWarning:\n",
      "\n",
      "The given buffer is not writable, and PyTorch does not support non-writable tensors. This means you can write to the underlying (supposedly non-writable) buffer using the tensor. You may want to copy the buffer to protect its data or make it writable before converting it to a tensor. This type of warning will be suppressed for the rest of this program. (Triggered internally at ../torch/csrc/utils/tensor_new.cpp:1524.)\n",
      "\n",
      "/tmp/ipykernel_31757/4277175988.py:57: UserWarning:\n",
      "\n",
      "The given buffer is not writable, and PyTorch does not support non-writable tensors. This means you can write to the underlying (supposedly non-writable) buffer using the tensor. You may want to copy the buffer to protect its data or make it writable before converting it to a tensor. This type of warning will be suppressed for the rest of this program. (Triggered internally at ../torch/csrc/utils/tensor_new.cpp:1524.)\n",
      "\n",
      "2.8853 bpc: : 1089it [01:06, 16.85it/s]"
     ]
    }
   ],
   "source": [
    "model.train().float().to(device)\n",
    "\n",
    "optimizer = torch.optim.Adam(\n",
    "    model.parameters(),\n",
    "    lr=4e-4,\n",
    "    betas=(0.9, 0.99),\n",
    "    weight_decay=0.0 # lr / 100\"\n",
    ")\n",
    "loss_func = torch.nn.CrossEntropyLoss()\n",
    "\n",
    "mem = None\n",
    "\n",
    "for data in (prog := tqdm(trainset)):\n",
    "\n",
    "    optimizer.zero_grad()\n",
    "\n",
    "    with torch.autocast(device_type='cuda', dtype=torch.bfloat16):\n",
    "        outputs, mem = model(data, mem)\n",
    "\n",
    "        targets = data[:, 1:].flatten()\n",
    "        outputs = outputs[:, :-1].flatten(0,1)\n",
    "\n",
    "        loss = loss_func(outputs, targets)\n",
    "\n",
    "    loss.backward()\n",
    "\n",
    "    optimizer.step()\n",
    "\n",
    "    tot_bytes += data.numel()\n",
    "    step += 1\n",
    "    bpc = loss.item() / math.log(2)\n",
    "    bpc_avg += (bpc - bpc_avg) / min(step, 500)\n",
    "    prog.set_description(f'{(bpc_avg):.4f} bpc')\n",
    "\n",
    "    if step % 64 == 0:\n",
    "        bpc_curve += [bpc_avg]\n",
    "        bytes_curve += [tot_bytes]\n",
    "        sfig.data[0].y = bpc_curve\n",
    "        sfig.data[0].x = bytes_curve\n",
    "\n",
    "        for p in model.parameters():\n",
    "            p.data.clamp_(-20, 20)"
   ]
  },
  {
   "cell_type": "code",
   "execution_count": 6,
   "metadata": {},
   "outputs": [],
   "source": [
    "torch.save(model.state_dict(), f'models/model{params}.pt')"
   ]
  },
  {
   "cell_type": "code",
   "execution_count": 10,
   "metadata": {},
   "outputs": [
    {
     "name": "stderr",
     "output_type": "stream",
     "text": [
      "100%|██████████| 200/200 [00:01<00:00, 186.67it/s]"
     ]
    },
    {
     "name": "stdout",
     "output_type": "stream",
     "text": [
      "The meaning of life is the largest in the world. The following is a separate unit of settlement in the world, but the lowest point is to prevent a lot of time. The two main is a part of the weather and the stream of a stron\n"
     ]
    },
    {
     "name": "stderr",
     "output_type": "stream",
     "text": [
      "\n"
     ]
    }
   ],
   "source": [
    "gen = b'The meaning of life is '\n",
    "entropy = .5\n",
    "\n",
    "model.eval().cpu()\n",
    "\n",
    "gen = torch.frombuffer(gen, dtype=torch.uint8)\n",
    "gen = gen.long()[None, :]\n",
    "prev_len = 0\n",
    "mem = None\n",
    "with torch.no_grad():\n",
    "    for t in tqdm(range(200)):\n",
    "        pred, mem = model(gen[:, prev_len:], mem)\n",
    "        pred = pred[0, -1:] / entropy\n",
    "        prev_len = gen.shape[1]\n",
    "\n",
    "        choose = torch.multinomial(pred.softmax(dim=-1), 1)\n",
    "        \n",
    "        gen = torch.cat((gen, choose), dim=-1)\n",
    "\n",
    "out = bytes(gen[0].tolist()).decode('utf-8')\n",
    "print(out)"
   ]
  },
  {
   "cell_type": "code",
   "execution_count": null,
   "metadata": {},
   "outputs": [],
   "source": []
  }
 ],
 "metadata": {
  "kernelspec": {
   "display_name": ".venv",
   "language": "python",
   "name": "python3"
  },
  "language_info": {
   "codemirror_mode": {
    "name": "ipython",
    "version": 3
   },
   "file_extension": ".py",
   "mimetype": "text/x-python",
   "name": "python",
   "nbconvert_exporter": "python",
   "pygments_lexer": "ipython3",
   "version": "3.10.12"
  }
 },
 "nbformat": 4,
 "nbformat_minor": 2
}
