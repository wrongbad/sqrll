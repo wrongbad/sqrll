{
 "cells": [
  {
   "cell_type": "code",
   "execution_count": 1,
   "metadata": {},
   "outputs": [
    {
     "name": "stdout",
     "output_type": "stream",
     "text": [
      "params=75,986,176\n"
     ]
    }
   ],
   "source": [
    "import torch\n",
    "from sqrll.sqrllm import SqrLLM\n",
    "from tqdm import tqdm\n",
    "import math\n",
    "\n",
    "assert torch.cuda.is_available()\n",
    "\n",
    "device = torch.device('cuda')\n",
    "dtype = torch.float32\n",
    "\n",
    "model = SqrLLM(\n",
    "    n_embed = 768,\n",
    "    n_mem = 1024,\n",
    "    n_layer = 12,\n",
    ").float().to(device)\n",
    "\n",
    "params = sum(p.numel() for p in model.parameters())\n",
    "print(f'{params=:,}')\n",
    "\n",
    "try:\n",
    "    model.load_state_dict(torch.load(f'models/model{params}.pt'))\n",
    "    print('loaded')\n",
    "except:\n",
    "    pass\n"
   ]
  },
  {
   "cell_type": "code",
   "execution_count": 26,
   "metadata": {},
   "outputs": [],
   "source": [
    "from libzim.reader import Archive\n",
    "from bs4 import BeautifulSoup\n",
    "\n",
    "from os.path import expanduser\n",
    "import random\n",
    "import re\n",
    "import numpy as np\n",
    "\n",
    "zname = expanduser('~/dev/data/text/wiki/zim/wikipedia_en_simple_all_nopic_2024-05.zim')\n",
    "zim = Archive(zname)\n",
    "space_re = re.compile(r'\\n\\s*\\n')\n",
    "\n",
    "\n",
    "def read_zim():\n",
    "    order = list(range(zim.all_entry_count))\n",
    "    random.shuffle(order)\n",
    "    for i in order:\n",
    "        entry = zim._get_entry_by_id(i).get_item()\n",
    "        if entry.mimetype != 'text/html':\n",
    "            continue\n",
    "        entry = entry.content.tobytes()\n",
    "        entry = BeautifulSoup(entry).get_text()\n",
    "        entry = re.sub(space_re, '\\n\\n', entry)\n",
    "        entry = bytes(entry, 'utf-8')\n",
    "        entry = torch.frombuffer(entry, dtype=torch.uint8)\n",
    "        entry = entry.long().to(device)\n",
    "        yield entry\n",
    "\n",
    "def tetris(data, batch=16, seqlen=256):\n",
    "    seqs = [[]] * batch\n",
    "    seq_len = np.zeros(batch, dtype=int)\n",
    "    for d in data:\n",
    "        insert = np.argmin(seq_len)\n",
    "        if seq_len[insert] == 0:\n",
    "            seqs[insert] = d\n",
    "        else:\n",
    "            seqs[insert] = torch.cat((seqs[insert], d), dim=0)\n",
    "        seq_len[insert] += len(d)\n",
    "\n",
    "        while np.min(seq_len) >= seqlen:\n",
    "            yield torch.stack([\n",
    "                s[:seqlen] for s in seqs\n",
    "            ], dim=0)\n",
    "            seqs = [s[seqlen:] for s in seqs]\n",
    "            seq_len -= seqlen\n",
    "\n",
    "\n",
    "trainset = tetris(read_zim(), batch=4, seqlen=2048)"
   ]
  },
  {
   "cell_type": "code",
   "execution_count": 27,
   "metadata": {},
   "outputs": [
    {
     "data": {
      "application/vnd.jupyter.widget-view+json": {
       "model_id": "349925dbe1d04ad781d9efe44c1b448b",
       "version_major": 2,
       "version_minor": 0
      },
      "text/plain": [
       "FigureWidget({\n",
       "    'data': [{'type': 'scatter', 'uid': 'e770a778-bbc6-41f2-a1d8-9f5146757392'}],\n",
       "    'layout': {'margin': {'b': 20, 'l': 20, 'r': 20, 't': 20}, 'template': '...'}\n",
       "})"
      ]
     },
     "execution_count": 27,
     "metadata": {},
     "output_type": "execute_result"
    }
   ],
   "source": [
    "import plotly.graph_objects as go\n",
    "\n",
    "step = 0\n",
    "bpc_avg = 0\n",
    "bpc_curve = []\n",
    "off_curve = []\n",
    "bpc_win = []\n",
    "\n",
    "sfig = go.FigureWidget()\n",
    "sfig.add_scatter()\n",
    "sfig.update_layout(\n",
    "    margin=dict(l=20, r=20, t=20, b=20),\n",
    ")\n",
    "sfig"
   ]
  },
  {
   "cell_type": "code",
   "execution_count": null,
   "metadata": {},
   "outputs": [],
   "source": [
    "model.train().float().to(device)\n",
    "\n",
    "optimizer = torch.optim.Adam(\n",
    "    model.parameters(),\n",
    "    lr=1e-4,\n",
    "    betas=(0.9, 0.99),\n",
    "    weight_decay=0.0 # lr / 100\"\n",
    ")\n",
    "loss_func = torch.nn.CrossEntropyLoss()\n",
    "\n",
    "mem = None\n",
    "\n",
    "for data in (prog := tqdm(trainset)):\n",
    "\n",
    "    optimizer.zero_grad()\n",
    "\n",
    "    with torch.autocast(device_type='cuda', dtype=torch.bfloat16):\n",
    "        outputs, mem = model(data, mem)\n",
    "\n",
    "        targets = data[:, 1:].flatten()\n",
    "        outputs = outputs[:, :-1].flatten(0,1)\n",
    "\n",
    "        loss = loss_func(outputs, targets)\n",
    "\n",
    "    loss.backward()\n",
    "\n",
    "    optimizer.step()\n",
    "\n",
    "    step += 1\n",
    "    bpc = loss.item() / math.log(2)\n",
    "    bpc_win = bpc_win[-99:] + [bpc]\n",
    "    bpc_avg = sum(bpc_win) / len(bpc_win)\n",
    "    prog.set_description(f'{(bpc_avg):.4f} bpc')\n",
    "\n",
    "    if step % 64 == 0:\n",
    "        bpc_curve += [bpc_avg]\n",
    "        sfig.data[0].y = bpc_curve\n",
    "\n",
    "        for p in model.parameters():\n",
    "            p.data.clamp_(-20, 20)"
   ]
  },
  {
   "cell_type": "code",
   "execution_count": 9,
   "metadata": {},
   "outputs": [],
   "source": [
    "torch.save(model.state_dict(), f'models/model{params}.pt')"
   ]
  },
  {
   "cell_type": "code",
   "execution_count": null,
   "metadata": {},
   "outputs": [],
   "source": [
    "gen = b'The meaning of life is '\n",
    "entropy = 1\n",
    "\n",
    "model.eval().cpu()\n",
    "\n",
    "gen = torch.frombuffer(gen, dtype=torch.uint8)\n",
    "gen = gen.long()[None, :]\n",
    "prev_len = 0\n",
    "mem = None\n",
    "with torch.no_grad():\n",
    "    for t in tqdm(range(100)):\n",
    "        pred, mem = model(gen[:, prev_len:], mem)\n",
    "        pred = pred[0, -1:] / entropy\n",
    "        prev_len = gen.shape[1]\n",
    "\n",
    "        choose = torch.multinomial(pred.softmax(dim=-1), 1)\n",
    "        \n",
    "        gen = torch.cat((gen, choose), dim=-1)\n",
    "\n",
    "out = bytes(gen[0].tolist()).decode('utf-8')\n",
    "print(out)"
   ]
  },
  {
   "cell_type": "code",
   "execution_count": null,
   "metadata": {},
   "outputs": [],
   "source": []
  }
 ],
 "metadata": {
  "kernelspec": {
   "display_name": ".venv",
   "language": "python",
   "name": "python3"
  },
  "language_info": {
   "codemirror_mode": {
    "name": "ipython",
    "version": 3
   },
   "file_extension": ".py",
   "mimetype": "text/x-python",
   "name": "python",
   "nbconvert_exporter": "python",
   "pygments_lexer": "ipython3",
   "version": "3.10.12"
  }
 },
 "nbformat": 4,
 "nbformat_minor": 2
}
