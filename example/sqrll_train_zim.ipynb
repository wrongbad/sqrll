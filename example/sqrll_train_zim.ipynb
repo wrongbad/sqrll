{
 "cells": [
  {
   "cell_type": "code",
   "execution_count": 1,
   "metadata": {},
   "outputs": [
    {
     "name": "stdout",
     "output_type": "stream",
     "text": [
      "params=36,491,008\n",
      "loaded\n"
     ]
    }
   ],
   "source": [
    "import torch\n",
    "from sqrll.sqrllm import SqrLLM\n",
    "from tqdm import tqdm\n",
    "import math\n",
    "\n",
    "assert torch.cuda.is_available()\n",
    "\n",
    "device = torch.device('cuda')\n",
    "dtype = torch.float32\n",
    "\n",
    "model = SqrLLM(\n",
    "    n_embed = 512,\n",
    "    n_mem = 768,\n",
    "    n_ffn = 1024,\n",
    "    ffn_rate = 4,\n",
    "    n_layer = 16,\n",
    ").float().to(device)\n",
    "\n",
    "params = sum(p.numel() for p in model.parameters())\n",
    "print(f'{params=:,}')\n",
    "\n",
    "try:\n",
    "    model.load_state_dict(torch.load(f'models/model{params}.pt'))\n",
    "    print('loaded')\n",
    "except:\n",
    "    pass\n"
   ]
  },
  {
   "cell_type": "code",
   "execution_count": 2,
   "metadata": {},
   "outputs": [],
   "source": [
    "from libzim.reader import Archive\n",
    "from bs4 import BeautifulSoup\n",
    "import multiprocessing\n",
    "import collections\n",
    "\n",
    "from os.path import expanduser\n",
    "import random\n",
    "import re\n",
    "import numpy as np\n",
    "\n",
    "# zname = expanduser('~/dev/data/text/wiki/zim/wikipedia_en_simple_all_nopic_2024-05.zim')\n",
    "zname = expanduser('~/dev/data/text/wiki/zim/wikipedia_en_all_nopic_2024-04.zim')\n",
    "zim = Archive(zname)\n",
    "space_re = re.compile(r'\\n\\s*\\n')\n",
    "\n",
    "\n",
    "def map_parallel(func, data, lookahead=128, workers=16, timeout=20):\n",
    "    with multiprocessing.Pool(workers) as pool:\n",
    "        q = collections.deque()\n",
    "        for x in data:\n",
    "            q.append(pool.apply_async(func, (x,)))\n",
    "            if len(q) >= lookahead:\n",
    "                if (r := q.popleft().get(timeout=timeout)) is not None:\n",
    "                    yield r\n",
    "        while len(q):\n",
    "            if (r := q.popleft().get(timeout=timeout)) is not None:\n",
    "                yield r\n",
    "\n",
    "\n",
    "def tetris(data, batch=16, seqlen=256):\n",
    "    seqs = [[]] * batch\n",
    "    seq_len = np.zeros(batch, dtype=int)\n",
    "    for d in data:\n",
    "        insert = np.argmin(seq_len)\n",
    "        if seq_len[insert] == 0:\n",
    "            seqs[insert] = d\n",
    "        else:\n",
    "            seqs[insert] = torch.cat((seqs[insert], d), dim=0)\n",
    "        seq_len[insert] += len(d)\n",
    "\n",
    "        while np.min(seq_len) >= seqlen:\n",
    "            yield torch.stack([\n",
    "                s[:seqlen] for s in seqs\n",
    "            ], dim=0)\n",
    "            seqs = [s[seqlen:] for s in seqs]\n",
    "            seq_len -= seqlen\n",
    "\n",
    "\n",
    "def read_zim_entry(page_id):\n",
    "    entry = zim._get_entry_by_id(page_id).get_item()\n",
    "    if entry.mimetype != 'text/html':\n",
    "        return None\n",
    "    entry = entry.content.tobytes().decode('utf-8')\n",
    "    entry = BeautifulSoup(entry).get_text()\n",
    "    entry = re.sub(space_re, '\\n\\n', entry)\n",
    "    entry = bytes(entry, 'utf-8')\n",
    "    entry = torch.frombuffer(entry, dtype=torch.uint8)\n",
    "    return entry\n",
    "\n",
    "\n",
    "def dataset(batch, seqlen):\n",
    "    page_ids = list(range(zim.all_entry_count))\n",
    "    random.shuffle(page_ids)\n",
    "    data = map_parallel(read_zim_entry, page_ids, \n",
    "        workers=4, lookahead=128, timeout=30)\n",
    "\n",
    "    data = tetris(data, batch, seqlen)\n",
    "    data = map(lambda e:e.long().to(device), data)\n",
    "    return data\n"
   ]
  },
  {
   "cell_type": "code",
   "execution_count": 3,
   "metadata": {},
   "outputs": [
    {
     "data": {
      "application/vnd.jupyter.widget-view+json": {
       "model_id": "e48b4c25dba64d93a1f91f77e2e65ce0",
       "version_major": 2,
       "version_minor": 0
      },
      "text/plain": [
       "FigureWidget({\n",
       "    'data': [{'type': 'scatter', 'uid': '60dd7de7-ca90-4f28-bf4d-7e199f8e958d'}],\n",
       "    'layout': {'margin': {'b': 20, 'l': 20, 'r': 20, 't': 20}, 'template': '...'}\n",
       "})"
      ]
     },
     "execution_count": 3,
     "metadata": {},
     "output_type": "execute_result"
    }
   ],
   "source": [
    "import plotly.graph_objects as go\n",
    "\n",
    "step = 0\n",
    "bpc_avg = 0\n",
    "tot_bytes = 0\n",
    "bpc_curve = []\n",
    "bytes_curve = []\n",
    "\n",
    "trainset = dataset(batch=4, seqlen=2048)\n",
    "\n",
    "sfig = go.FigureWidget()\n",
    "sfig.add_scatter()\n",
    "sfig.update_layout(\n",
    "    margin=dict(l=20, r=20, t=20, b=20),\n",
    ")\n",
    "sfig"
   ]
  },
  {
   "cell_type": "code",
   "execution_count": 4,
   "metadata": {},
   "outputs": [
    {
     "name": "stderr",
     "output_type": "stream",
     "text": [
      "0it [00:00, ?it/s]/tmp/ipykernel_35469/2682325069.py:57: UserWarning:\n",
      "\n",
      "The given buffer is not writable, and PyTorch does not support non-writable tensors. This means you can write to the underlying (supposedly non-writable) buffer using the tensor. You may want to copy the buffer to protect its data or make it writable before converting it to a tensor. This type of warning will be suppressed for the rest of this program. (Triggered internally at ../torch/csrc/utils/tensor_new.cpp:1524.)\n",
      "\n",
      "/tmp/ipykernel_35469/2682325069.py:57: UserWarning:\n",
      "\n",
      "The given buffer is not writable, and PyTorch does not support non-writable tensors. This means you can write to the underlying (supposedly non-writable) buffer using the tensor. You may want to copy the buffer to protect its data or make it writable before converting it to a tensor. This type of warning will be suppressed for the rest of this program. (Triggered internally at ../torch/csrc/utils/tensor_new.cpp:1524.)\n",
      "\n",
      "/tmp/ipykernel_35469/2682325069.py:57: UserWarning:\n",
      "\n",
      "The given buffer is not writable, and PyTorch does not support non-writable tensors. This means you can write to the underlying (supposedly non-writable) buffer using the tensor. You may want to copy the buffer to protect its data or make it writable before converting it to a tensor. This type of warning will be suppressed for the rest of this program. (Triggered internally at ../torch/csrc/utils/tensor_new.cpp:1524.)\n",
      "\n",
      "/tmp/ipykernel_35469/2682325069.py:57: UserWarning:\n",
      "\n",
      "The given buffer is not writable, and PyTorch does not support non-writable tensors. This means you can write to the underlying (supposedly non-writable) buffer using the tensor. You may want to copy the buffer to protect its data or make it writable before converting it to a tensor. This type of warning will be suppressed for the rest of this program. (Triggered internally at ../torch/csrc/utils/tensor_new.cpp:1524.)\n",
      "\n",
      "1.5035 bpc: : 93278it [1:32:50, 16.75it/s]\n"
     ]
    },
    {
     "ename": "KeyboardInterrupt",
     "evalue": "",
     "output_type": "error",
     "traceback": [
      "\u001b[0;31m---------------------------------------------------------------------------\u001b[0m",
      "\u001b[0;31mKeyboardInterrupt\u001b[0m                         Traceback (most recent call last)",
      "Cell \u001b[0;32mIn[4], line 25\u001b[0m\n\u001b[1;32m     21\u001b[0m     outputs \u001b[38;5;241m=\u001b[39m outputs[:, :\u001b[38;5;241m-\u001b[39m\u001b[38;5;241m1\u001b[39m]\u001b[38;5;241m.\u001b[39mflatten(\u001b[38;5;241m0\u001b[39m,\u001b[38;5;241m1\u001b[39m)\n\u001b[1;32m     23\u001b[0m     loss \u001b[38;5;241m=\u001b[39m loss_func(outputs, targets)\n\u001b[0;32m---> 25\u001b[0m \u001b[43mloss\u001b[49m\u001b[38;5;241;43m.\u001b[39;49m\u001b[43mbackward\u001b[49m\u001b[43m(\u001b[49m\u001b[43m)\u001b[49m\n\u001b[1;32m     27\u001b[0m optimizer\u001b[38;5;241m.\u001b[39mstep()\n\u001b[1;32m     29\u001b[0m tot_bytes \u001b[38;5;241m+\u001b[39m\u001b[38;5;241m=\u001b[39m data\u001b[38;5;241m.\u001b[39mnumel()\n",
      "File \u001b[0;32m~/dev/.venv/lib/python3.10/site-packages/torch/_tensor.py:525\u001b[0m, in \u001b[0;36mTensor.backward\u001b[0;34m(self, gradient, retain_graph, create_graph, inputs)\u001b[0m\n\u001b[1;32m    515\u001b[0m \u001b[38;5;28;01mif\u001b[39;00m has_torch_function_unary(\u001b[38;5;28mself\u001b[39m):\n\u001b[1;32m    516\u001b[0m     \u001b[38;5;28;01mreturn\u001b[39;00m handle_torch_function(\n\u001b[1;32m    517\u001b[0m         Tensor\u001b[38;5;241m.\u001b[39mbackward,\n\u001b[1;32m    518\u001b[0m         (\u001b[38;5;28mself\u001b[39m,),\n\u001b[0;32m   (...)\u001b[0m\n\u001b[1;32m    523\u001b[0m         inputs\u001b[38;5;241m=\u001b[39minputs,\n\u001b[1;32m    524\u001b[0m     )\n\u001b[0;32m--> 525\u001b[0m \u001b[43mtorch\u001b[49m\u001b[38;5;241;43m.\u001b[39;49m\u001b[43mautograd\u001b[49m\u001b[38;5;241;43m.\u001b[39;49m\u001b[43mbackward\u001b[49m\u001b[43m(\u001b[49m\n\u001b[1;32m    526\u001b[0m \u001b[43m    \u001b[49m\u001b[38;5;28;43mself\u001b[39;49m\u001b[43m,\u001b[49m\u001b[43m \u001b[49m\u001b[43mgradient\u001b[49m\u001b[43m,\u001b[49m\u001b[43m \u001b[49m\u001b[43mretain_graph\u001b[49m\u001b[43m,\u001b[49m\u001b[43m \u001b[49m\u001b[43mcreate_graph\u001b[49m\u001b[43m,\u001b[49m\u001b[43m \u001b[49m\u001b[43minputs\u001b[49m\u001b[38;5;241;43m=\u001b[39;49m\u001b[43minputs\u001b[49m\n\u001b[1;32m    527\u001b[0m \u001b[43m\u001b[49m\u001b[43m)\u001b[49m\n",
      "File \u001b[0;32m~/dev/.venv/lib/python3.10/site-packages/torch/autograd/__init__.py:267\u001b[0m, in \u001b[0;36mbackward\u001b[0;34m(tensors, grad_tensors, retain_graph, create_graph, grad_variables, inputs)\u001b[0m\n\u001b[1;32m    262\u001b[0m     retain_graph \u001b[38;5;241m=\u001b[39m create_graph\n\u001b[1;32m    264\u001b[0m \u001b[38;5;66;03m# The reason we repeat the same comment below is that\u001b[39;00m\n\u001b[1;32m    265\u001b[0m \u001b[38;5;66;03m# some Python versions print out the first line of a multi-line function\u001b[39;00m\n\u001b[1;32m    266\u001b[0m \u001b[38;5;66;03m# calls in the traceback and some print out the last line\u001b[39;00m\n\u001b[0;32m--> 267\u001b[0m \u001b[43m_engine_run_backward\u001b[49m\u001b[43m(\u001b[49m\n\u001b[1;32m    268\u001b[0m \u001b[43m    \u001b[49m\u001b[43mtensors\u001b[49m\u001b[43m,\u001b[49m\n\u001b[1;32m    269\u001b[0m \u001b[43m    \u001b[49m\u001b[43mgrad_tensors_\u001b[49m\u001b[43m,\u001b[49m\n\u001b[1;32m    270\u001b[0m \u001b[43m    \u001b[49m\u001b[43mretain_graph\u001b[49m\u001b[43m,\u001b[49m\n\u001b[1;32m    271\u001b[0m \u001b[43m    \u001b[49m\u001b[43mcreate_graph\u001b[49m\u001b[43m,\u001b[49m\n\u001b[1;32m    272\u001b[0m \u001b[43m    \u001b[49m\u001b[43minputs\u001b[49m\u001b[43m,\u001b[49m\n\u001b[1;32m    273\u001b[0m \u001b[43m    \u001b[49m\u001b[43mallow_unreachable\u001b[49m\u001b[38;5;241;43m=\u001b[39;49m\u001b[38;5;28;43;01mTrue\u001b[39;49;00m\u001b[43m,\u001b[49m\n\u001b[1;32m    274\u001b[0m \u001b[43m    \u001b[49m\u001b[43maccumulate_grad\u001b[49m\u001b[38;5;241;43m=\u001b[39;49m\u001b[38;5;28;43;01mTrue\u001b[39;49;00m\u001b[43m,\u001b[49m\n\u001b[1;32m    275\u001b[0m \u001b[43m\u001b[49m\u001b[43m)\u001b[49m\n",
      "File \u001b[0;32m~/dev/.venv/lib/python3.10/site-packages/torch/autograd/graph.py:744\u001b[0m, in \u001b[0;36m_engine_run_backward\u001b[0;34m(t_outputs, *args, **kwargs)\u001b[0m\n\u001b[1;32m    742\u001b[0m     unregister_hooks \u001b[38;5;241m=\u001b[39m _register_logging_hooks_on_whole_graph(t_outputs)\n\u001b[1;32m    743\u001b[0m \u001b[38;5;28;01mtry\u001b[39;00m:\n\u001b[0;32m--> 744\u001b[0m     \u001b[38;5;28;01mreturn\u001b[39;00m \u001b[43mVariable\u001b[49m\u001b[38;5;241;43m.\u001b[39;49m\u001b[43m_execution_engine\u001b[49m\u001b[38;5;241;43m.\u001b[39;49m\u001b[43mrun_backward\u001b[49m\u001b[43m(\u001b[49m\u001b[43m  \u001b[49m\u001b[38;5;66;43;03m# Calls into the C++ engine to run the backward pass\u001b[39;49;00m\n\u001b[1;32m    745\u001b[0m \u001b[43m        \u001b[49m\u001b[43mt_outputs\u001b[49m\u001b[43m,\u001b[49m\u001b[43m \u001b[49m\u001b[38;5;241;43m*\u001b[39;49m\u001b[43margs\u001b[49m\u001b[43m,\u001b[49m\u001b[43m \u001b[49m\u001b[38;5;241;43m*\u001b[39;49m\u001b[38;5;241;43m*\u001b[39;49m\u001b[43mkwargs\u001b[49m\n\u001b[1;32m    746\u001b[0m \u001b[43m    \u001b[49m\u001b[43m)\u001b[49m  \u001b[38;5;66;03m# Calls into the C++ engine to run the backward pass\u001b[39;00m\n\u001b[1;32m    747\u001b[0m \u001b[38;5;28;01mfinally\u001b[39;00m:\n\u001b[1;32m    748\u001b[0m     \u001b[38;5;28;01mif\u001b[39;00m attach_logging_hooks:\n",
      "\u001b[0;31mKeyboardInterrupt\u001b[0m: "
     ]
    }
   ],
   "source": [
    "model.train().float().to(device)\n",
    "\n",
    "optimizer = torch.optim.Adam(\n",
    "    model.parameters(),\n",
    "    lr=2e-4,\n",
    "    betas=(0.9, 0.99),\n",
    "    weight_decay=0.0 # lr / 100\"\n",
    ")\n",
    "loss_func = torch.nn.CrossEntropyLoss()\n",
    "\n",
    "mem = None\n",
    "\n",
    "for data in (prog := tqdm(trainset)):\n",
    "\n",
    "    optimizer.zero_grad()\n",
    "\n",
    "    with torch.autocast(device_type='cuda', dtype=torch.bfloat16):\n",
    "        outputs, mem = model(data, mem)\n",
    "\n",
    "        targets = data[:, 1:].flatten()\n",
    "        outputs = outputs[:, :-1].flatten(0,1)\n",
    "\n",
    "        loss = loss_func(outputs, targets)\n",
    "\n",
    "    loss.backward()\n",
    "\n",
    "    optimizer.step()\n",
    "\n",
    "    tot_bytes += data.numel()\n",
    "    step += 1\n",
    "    bpc = loss.item() / math.log(2)\n",
    "    bpc_avg += (bpc - bpc_avg) / min(step, 500)\n",
    "    prog.set_description(f'{(bpc_avg):.4f} bpc')\n",
    "\n",
    "    if step % 64 == 0:\n",
    "        bpc_curve += [bpc_avg]\n",
    "        bytes_curve += [tot_bytes]\n",
    "        sfig.data[0].y = bpc_curve\n",
    "        sfig.data[0].x = bytes_curve\n",
    "\n",
    "        for p in model.parameters():\n",
    "            p.data.clamp_(-20, 20)"
   ]
  },
  {
   "cell_type": "code",
   "execution_count": 5,
   "metadata": {},
   "outputs": [],
   "source": [
    "torch.save(model.state_dict(), f'models/model{params}.pt')"
   ]
  },
  {
   "cell_type": "code",
   "execution_count": 6,
   "metadata": {},
   "outputs": [
    {
     "name": "stderr",
     "output_type": "stream",
     "text": [
      "/tmp/ipykernel_35469/3853481786.py:6: UserWarning:\n",
      "\n",
      "The given buffer is not writable, and PyTorch does not support non-writable tensors. This means you can write to the underlying (supposedly non-writable) buffer using the tensor. You may want to copy the buffer to protect its data or make it writable before converting it to a tensor. This type of warning will be suppressed for the rest of this program. (Triggered internally at ../torch/csrc/utils/tensor_new.cpp:1524.)\n",
      "\n",
      "100%|██████████| 200/200 [00:02<00:00, 97.71it/s]"
     ]
    },
    {
     "name": "stdout",
     "output_type": "stream",
     "text": [
      "The meaning of life is not really a result of the process.\n",
      "\n",
      "References\n",
      "\n",
      " \"The True Life of the British Indian Tribe\". The Globe and Mail. November 19, 2018. Retrieved December 1, 2018. \"The British Breed of Life as Life and\n"
     ]
    },
    {
     "name": "stderr",
     "output_type": "stream",
     "text": [
      "\n"
     ]
    }
   ],
   "source": [
    "gen = b'The meaning of life is '\n",
    "entropy = .5\n",
    "\n",
    "model.eval().cpu()\n",
    "\n",
    "gen = torch.frombuffer(gen, dtype=torch.uint8)\n",
    "gen = gen.long()[None, :]\n",
    "prev_len = 0\n",
    "mem = None\n",
    "with torch.no_grad():\n",
    "    for t in tqdm(range(200)):\n",
    "        pred, mem = model(gen[:, prev_len:], mem)\n",
    "        pred = pred[0, -1:] / entropy\n",
    "        prev_len = gen.shape[1]\n",
    "\n",
    "        choose = torch.multinomial(pred.softmax(dim=-1), 1)\n",
    "        \n",
    "        gen = torch.cat((gen, choose), dim=-1)\n",
    "\n",
    "out = bytes(gen[0].tolist()).decode('utf-8')\n",
    "print(out)"
   ]
  },
  {
   "cell_type": "code",
   "execution_count": null,
   "metadata": {},
   "outputs": [],
   "source": []
  }
 ],
 "metadata": {
  "kernelspec": {
   "display_name": ".venv",
   "language": "python",
   "name": "python3"
  },
  "language_info": {
   "codemirror_mode": {
    "name": "ipython",
    "version": 3
   },
   "file_extension": ".py",
   "mimetype": "text/x-python",
   "name": "python",
   "nbconvert_exporter": "python",
   "pygments_lexer": "ipython3",
   "version": "3.10.12"
  }
 },
 "nbformat": 4,
 "nbformat_minor": 2
}
